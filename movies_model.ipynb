{
 "cells": [
  {
   "cell_type": "code",
   "execution_count": 1,
   "metadata": {},
   "outputs": [
    {
     "name": "stdout",
     "output_type": "stream",
     "text": [
      "Movies suggested for you : \n",
      "\n",
      "1 . Batman\n",
      "2 . Batman Returns\n",
      "3 . Batman & Robin\n",
      "4 . The Dark Knight Rises\n",
      "5 . Batman Begins\n",
      "6 . The World of Stainboy\n",
      "7 . The Dark Knight\n",
      "8 . A History of Violence\n",
      "9 . Superman\n",
      "10 . Sleepy Hollow\n",
      "11 . Beetlejuice\n",
      "12 . Justice League: Doom\n",
      "13 . Battlestar Galactica: The Plan\n",
      "14 . Salton Sea\n",
      "15 . Mars Attacks!\n",
      "16 . Planet of the Apes\n",
      "17 . The Witches of Eastwick\n",
      "18 . The Hard Way\n",
      "19 . Bedazzled\n",
      "20 . Man of Steel\n",
      "21 . The Mask\n",
      "22 . The Terror\n",
      "23 . Spider-Man 3\n",
      "24 . Spider-Man 2\n",
      "25 . Lightning Jack\n",
      "26 . Sergeant Rutledge\n",
      "27 . The Gauntlet\n",
      "28 . Dungeons & Dragons: Wrath of the Dragon God\n",
      "29 . The Hot Chick\n"
     ]
    }
   ],
   "source": [
    "import numpy as np\n",
    "import pandas as pd\n",
    "import difflib\n",
    "from sklearn.feature_extraction.text import TfidfVectorizer\n",
    "from sklearn.metrics.pairwise import cosine_similarity\n",
    "# loading the data from the csv file to apandas dataframe\n",
    "movies_data = pd.read_csv(\"C:/Users/88697/Desktop/movie/tmdb-movies.csv\", encoding='ISO-8859-1')\n",
    "\n",
    "selected_features = ['genres','keywords','tagline','cast','director']\n",
    "# replacing the null valuess with null string\n",
    "\n",
    "for feature in selected_features:\n",
    "  movies_data[feature] = movies_data[feature].fillna('')\n",
    "# combining all the 5 selected features\n",
    "\n",
    "combined_features = movies_data['genres']+' '+movies_data['keywords']+' '+movies_data['tagline']+' '+movies_data['cast']+' '+movies_data['director']\n",
    "\n",
    "vectorizer = TfidfVectorizer()\n",
    "feature_vectors = vectorizer.fit_transform(combined_features)\n",
    "similarity = cosine_similarity(feature_vectors)\n",
    "movie_name = input(' Enter your favourite movie name : ')\n",
    "\n",
    "list_of_all_titles = movies_data['original_title'].tolist()\n",
    "\n",
    "find_close_match = difflib.get_close_matches(movie_name, list_of_all_titles)\n",
    "\n",
    "close_match = find_close_match[0]\n",
    "\n",
    "index_of_the_movie = movies_data[movies_data.original_title == close_match]['index'].values[0]\n",
    "\n",
    "similarity_score = list(enumerate(similarity[index_of_the_movie]))\n",
    "\n",
    "sorted_similar_movies = sorted(similarity_score, key = lambda x:x[1], reverse = True) \n",
    "\n",
    "print('Movies suggested for you : \\n')\n",
    "\n",
    "i = 1\n",
    "\n",
    "for movie in sorted_similar_movies:\n",
    "  index = movie[0]\n",
    "  title_from_index = movies_data[movies_data.index==index]['original_title'].values[0]\n",
    "  if (i<30):\n",
    "    print(i, '.',title_from_index)\n",
    "    i+=1"
   ]
  },
  {
   "cell_type": "code",
   "execution_count": 2,
   "metadata": {},
   "outputs": [
    {
     "name": "stdout",
     "output_type": "stream",
     "text": [
      "推薦系統模型已保存\n"
     ]
    }
   ],
   "source": [
    "import numpy as np\n",
    "import pandas as pd\n",
    "import difflib\n",
    "from sklearn.feature_extraction.text import TfidfVectorizer\n",
    "from sklearn.metrics.pairwise import cosine_similarity\n",
    "import pickle\n",
    "\n",
    "# 加載數據\n",
    "movies_data = pd.read_csv(\"C:/Users/88697/Desktop/movie/tmdb-movies.csv\", encoding='ISO-8859-1')\n",
    "\n",
    "# 選擇特徵\n",
    "selected_features = ['genres', 'keywords', 'tagline', 'cast', 'director']\n",
    "\n",
    "# 填充空值\n",
    "for feature in selected_features:\n",
    "    movies_data[feature] = movies_data[feature].fillna('')\n",
    "\n",
    "# 合併特徵\n",
    "combined_features = movies_data['genres'] + ' ' + movies_data['keywords'] + ' ' + movies_data['tagline'] + ' ' + movies_data['cast'] + ' ' + movies_data['director']\n",
    "\n",
    "# 特徵向量化\n",
    "vectorizer = TfidfVectorizer()\n",
    "feature_vectors = vectorizer.fit_transform(combined_features)\n",
    "\n",
    "# 計算相似度\n",
    "similarity = cosine_similarity(feature_vectors)\n",
    "\n",
    "# 保存模型\n",
    "model = {\n",
    "    'movies_data': movies_data,\n",
    "    'similarity': similarity\n",
    "}\n",
    "\n",
    "with open('recommendation_model.pkl', 'wb') as file:\n",
    "    pickle.dump(model, file)\n",
    "\n",
    "print(\"推薦系統模型已保存\")"
   ]
  }
 ],
 "metadata": {
  "kernelspec": {
   "display_name": "Python 3",
   "language": "python",
   "name": "python3"
  },
  "language_info": {
   "codemirror_mode": {
    "name": "ipython",
    "version": 3
   },
   "file_extension": ".py",
   "mimetype": "text/x-python",
   "name": "python",
   "nbconvert_exporter": "python",
   "pygments_lexer": "ipython3",
   "version": "3.9.7"
  }
 },
 "nbformat": 4,
 "nbformat_minor": 2
}
